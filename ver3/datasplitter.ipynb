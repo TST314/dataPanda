{
 "cells": [
  {
   "cell_type": "code",
   "execution_count": 4,
   "metadata": {},
   "outputs": [],
   "source": [
    "import pandas as pd\n",
    "\n",
    "VAplan = pd.read_csv(\"files/VAplan3.csv\")\n",
    "VAplan = VAplan[pd.notnull(VAplan['Risk'])]"
   ]
  },
  {
   "cell_type": "code",
   "execution_count": 9,
   "metadata": {},
   "outputs": [],
   "source": [
    "#High Risk\n",
    "highRk = VAplan[ VAplan['Risk'] == \"High\"]\n",
    "highRk.to_csv('files/dsplit/Highrisk.csv')\n",
    "\n",
    "#low Risk\n",
    "lowRk = VAplan[ VAplan['Risk'] == \"Low\"]\n",
    "lowRk.to_csv('files/dsplit/Lowrisk.csv')\n",
    "\n",
    "#moderate Risk\n",
    "modRk = VAplan[ VAplan['Risk'] == \"Moderate\"]\n",
    "modRk.to_csv('files/dsplit/Modrisk.csv')\n",
    "\n",
    "#still planning\n",
    "spRk = VAplan[ VAplan['Risk'] == \"still planning\"]\n",
    "spRk.to_csv('files/dsplit/sp.csv')\n",
    "\n",
    "#only special needs are at risk as they come into school \n",
    "osn = VAplan [ VAplan['Risk'] == \"only special need in-person\"]\n",
    "osn.to_csv('files/dsplit/osn.csv')"
   ]
  },
  {
   "cell_type": "code",
   "execution_count": 12,
   "metadata": {},
   "outputs": [
    {
     "data": {
      "text/html": [
       "<div>\n",
       "<style scoped>\n",
       "    .dataframe tbody tr th:only-of-type {\n",
       "        vertical-align: middle;\n",
       "    }\n",
       "\n",
       "    .dataframe tbody tr th {\n",
       "        vertical-align: top;\n",
       "    }\n",
       "\n",
       "    .dataframe thead th {\n",
       "        text-align: right;\n",
       "    }\n",
       "</style>\n",
       "<table border=\"1\" class=\"dataframe\">\n",
       "  <thead>\n",
       "    <tr style=\"text-align: right;\">\n",
       "      <th></th>\n",
       "      <th>County</th>\n",
       "      <th>Number of Students</th>\n",
       "      <th>Elementary school Plan</th>\n",
       "      <th>Secondary School Plan</th>\n",
       "      <th>Risk</th>\n",
       "    </tr>\n",
       "  </thead>\n",
       "  <tbody>\n",
       "    <tr>\n",
       "      <th>36</th>\n",
       "      <td>Essex</td>\n",
       "      <td>1320.0</td>\n",
       "      <td>All virtual</td>\n",
       "      <td>All virtual</td>\n",
       "      <td>only special need in-person</td>\n",
       "    </tr>\n",
       "    <tr>\n",
       "      <th>82</th>\n",
       "      <td>Nelson</td>\n",
       "      <td>1695.0</td>\n",
       "      <td>All virtual</td>\n",
       "      <td>All virtual</td>\n",
       "      <td>only special need in-person</td>\n",
       "    </tr>\n",
       "  </tbody>\n",
       "</table>\n",
       "</div>"
      ],
      "text/plain": [
       "    County  Number of Students Elementary school Plan Secondary School Plan  \\\n",
       "36   Essex              1320.0           All virtual           All virtual    \n",
       "82  Nelson              1695.0           All virtual           All virtual    \n",
       "\n",
       "                           Risk  \n",
       "36  only special need in-person  \n",
       "82  only special need in-person  "
      ]
     },
     "execution_count": 12,
     "metadata": {},
     "output_type": "execute_result"
    }
   ],
   "source": []
  }
 ],
 "metadata": {
  "kernelspec": {
   "display_name": "Python 3",
   "language": "python",
   "name": "python3"
  },
  "language_info": {
   "codemirror_mode": {
    "name": "ipython",
    "version": 3
   },
   "file_extension": ".py",
   "mimetype": "text/x-python",
   "name": "python",
   "nbconvert_exporter": "python",
   "pygments_lexer": "ipython3",
   "version": "3.7.7"
  }
 },
 "nbformat": 4,
 "nbformat_minor": 4
}
